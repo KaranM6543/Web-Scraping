{
 "cells": [
  {
   "cell_type": "code",
   "execution_count": 8,
   "id": "a059ff79-55b3-4344-bbe0-2c0ae2480c6a",
   "metadata": {},
   "outputs": [],
   "source": [
    "import pandas as pd\n",
    "import requests\n",
    "from bs4 import BeautifulSoup\n",
    "\n",
    "Product_name =[]\n",
    "Product_price = []\n",
    "Average_rating =[]\n",
    "Number_of_reviews =[]\n",
    "\n",
    "for i in range(2,22):\n",
    "    url = \"https://www.amazon.in/s?k=mobile+under+50000&crid=VJ8YCQOMGBDY&qid=1729587942&sprefix=mobile+under+50000%2Caps%2C210&ref=sr_pg_\"+str(i)\n",
    "    r = requests.get(url)\n",
    "    \n",
    "    soup = BeautifulSoup(r.text, \"lxml\")\n",
    "\n",
    "    box = soup.find(\"div\", class_=\"sg-col-20-of-24 s-matching-dir sg-col-16-of-20 sg-col sg-col-8-of-12 sg-col-12-of-16\")\n",
    "    \n",
    "    names = box.find_all(\"span\", class_= \"a-size-medium a-color-base a-text-normal\")\n",
    "    \n",
    "    for i in names:\n",
    "        name = i.text\n",
    "        Product_name.append(name)\n",
    "        \n",
    "    names = box.find_all(\"span\", class_= \"a-price-whole\")\n",
    "    \n",
    "    for i in names: \n",
    "        name = i.text\n",
    "        Product_price.append(name)\n",
    "        \n",
    "    names = box.find_all(\"span\", class_= \"a-icon-alt\")\n",
    "    \n",
    "    for i in names:\n",
    "        name = i.text\n",
    "        name = float(name[:3])\n",
    "        Average_rating.append(name)\n",
    "        \n",
    "    names = box.find_all(\"span\", class_=\"a-size-base s-underline-text\")\n",
    "    \n",
    "    for i in names:\n",
    "        name = i.text\n",
    "        Number_of_reviews.append(name)\n",
    "\n",
    "\n",
    "\n",
    "df = pd.DataFrame({\"Product name\": Product_name, \"Product price\": Product_price, \"Average rating\": Average_rating, \"Reviews count\": Number_of_reviews})\n",
    "\n",
    "\n",
    "\n",
    "\n",
    "df.to_csv(\"C:/Users/Admin/Desktop/Python data analysis/project.csv\")\n",
    "\n",
    "\n"
   ]
  },
  {
   "cell_type": "code",
   "execution_count": null,
   "id": "eb26411b-d12d-42f9-8ac0-07321d94c6ff",
   "metadata": {},
   "outputs": [],
   "source": []
  }
 ],
 "metadata": {
  "kernelspec": {
   "display_name": "Python 3 (ipykernel)",
   "language": "python",
   "name": "python3"
  },
  "language_info": {
   "codemirror_mode": {
    "name": "ipython",
    "version": 3
   },
   "file_extension": ".py",
   "mimetype": "text/x-python",
   "name": "python",
   "nbconvert_exporter": "python",
   "pygments_lexer": "ipython3",
   "version": "3.12.4"
  }
 },
 "nbformat": 4,
 "nbformat_minor": 5
}
